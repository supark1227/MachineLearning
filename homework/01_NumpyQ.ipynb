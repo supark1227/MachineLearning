{
 "cells": [
  {
   "cell_type": "markdown",
   "metadata": {},
   "source": [
    "# 1. Numpy 기초 연습문제\n",
    "\n",
    "아래 문제들은 Numpy 패키지의 아주 기본적인 내용을 연습할 수 있는 문제입니다.\n",
    "\n",
    "1. np.zeros를 이용하여 행이 3, 열이 4인 ndarray를 생성하고 내용을 출력하시오. <br>\n",
    "이 때 생성된 ndarray의 이름은 a가 되도록 한다.<br>"
   ]
  },
  {
   "cell_type": "markdown",
   "metadata": {},
   "source": [
    "2. 위에서 생성한 ndarray a에 대하여, 다중 for 문을 이용해 아래와 같은 값을 갖도록 초기화하고 내용을 출력하시오.\n",
    "```\n",
    "array([[ 1.,  2.,  3.,  4.],\n",
    "       [ 5.,  6.,  7.,  8.],\n",
    "       [ 9., 10., 11., 12.]])\n",
    "```"
   ]
  },
  {
   "cell_type": "markdown",
   "metadata": {},
   "source": [
    "3. 초기화한 a로부터 값 7을 꺼내도록 인덱싱하여 출력하시오."
   ]
  },
  {
   "cell_type": "markdown",
   "metadata": {},
   "source": [
    "4. a에서 아래와 같이 둘째 행을 꺼내도록 인덱싱하고 출력하시오. <br>\n",
    "아래 결과에서 차원이 유지된 것에 주의하여 인덱싱을 하시오.\n",
    "\n",
    "`array([[5., 6., 7., 8.]])`"
   ]
  },
  {
   "cell_type": "markdown",
   "metadata": {},
   "source": [
    "5. a에서 아래와 같이 둘째 열과 셋째 열이 나오도록 인덱싱하고 결과를 출력하시오.\n",
    "\n",
    "```\n",
    "array([[ 2.,  3.],\n",
    "       [ 6.,  7.],\n",
    "       [10., 11.]])\n",
    "```"
   ]
  },
  {
   "cell_type": "markdown",
   "metadata": {},
   "source": [
    "6. 아래와 같이 a에서 6보다 작거나 같은 값들이 나오도록 불리안 인덱싱을 하고 결과를 출력하시오.\n",
    "\n",
    "```array([1., 2., 3., 4., 5., 6.])```"
   ]
  },
  {
   "cell_type": "markdown",
   "metadata": {},
   "source": [
    "7. np.random 패키지를 이용하여 0에서 1사이의 값이 무작위로 생성된, 행이 3 열이 4인 ndarray를 생성하시오. <br>\n",
    "이 때 생성된 ndarray의 이름은 b가 되도록 한다. <br>\n",
    "그리고 아래와 같이 랜덤 시드 설정을 7로 하고 실행하시오.\n",
    "\n",
    "`np.random.seed(7)`"
   ]
  },
  {
   "cell_type": "markdown",
   "metadata": {},
   "source": [
    "8. a와 b의 요소곱을 하여 c에 저장하고 결과를 출력하시오"
   ]
  },
  {
   "cell_type": "markdown",
   "metadata": {},
   "source": [
    "9. b의 전치행렬을 구하여 d에 저장하고 결과를 출력하시오."
   ]
  },
  {
   "cell_type": "markdown",
   "metadata": {},
   "source": [
    "10. a와 d에 대하여 각 차원의 크기를 출력하시오."
   ]
  },
  {
   "cell_type": "markdown",
   "metadata": {},
   "source": [
    "11. a와 d의 행렬곱을 계산하여 e에 저장하고 결과를 출력하시오."
   ]
  },
  {
   "cell_type": "markdown",
   "metadata": {},
   "source": [
    "12. e에 대하여 각 열의 합을 계산하여 출력하시오."
   ]
  }
 ],
 "metadata": {
  "kernelspec": {
   "display_name": "Python 3 (ipykernel)",
   "language": "python",
   "name": "python3"
  },
  "language_info": {
   "codemirror_mode": {
    "name": "ipython",
    "version": 3
   },
   "file_extension": ".py",
   "mimetype": "text/x-python",
   "name": "python",
   "nbconvert_exporter": "python",
   "pygments_lexer": "ipython3",
   "version": "3.10.13"
  }
 },
 "nbformat": 4,
 "nbformat_minor": 1
}
